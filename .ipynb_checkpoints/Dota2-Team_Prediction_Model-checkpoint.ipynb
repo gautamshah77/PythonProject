{
 "cells": [
  {
   "cell_type": "markdown",
   "metadata": {
    "collapsed": true
   },
   "source": [
    "## DOTA2 Team Prediction Model using machine learning techniques"
   ]
  },
  {
   "cell_type": "markdown",
   "metadata": {},
   "source": [
    "Dota2 by Valve is a popular computer game with a player base of 6 million unique users. Each Dota 2 match consists of two teams of five players pitted against each other. Before a match begins, each player selects a character to play as, known as a “hero,” from a pool of 113 different heroes. Once a player chooses a hero, no other player can select that hero for the same match. Heroes have a wide-range of characteristics and abilities that, combined with the massive hero pool, make each match unique."
   ]
  },
  {
   "cell_type": "markdown",
   "metadata": {},
   "source": [
    "An interesting aspect of the game is that in choosing a hero, players must keep in mind not only the individual strengths and weaknesses of each hero, but also how the strengths and weaknesses of that hero interacts with the heroes already chosen by other players. An effective hero pick is one that synergizes with the heroes chosen by teammates, and both exploits the weaknesses and minimizes the strengths of the heroes chosen by the opposing team. Assuming equally skilled teams, the ramifications of hero selection can be so staggering that well devised hero choices can implicitly give a team a large advantage before the match even begins. The goal of our project is to recommend heroes that will perform well against an opposing team of heroes."
   ]
  },
  {
   "cell_type": "markdown",
   "metadata": {},
   "source": [
    "With 113 heroes to choose from and five heroes per team, we are attempting to find the best five heroes for any given matchup, which results in over eight quadrillion possible team combinations. On a deeper level, recommending heroes using machine learning is challenging because it tries to capture via raw data what professional players have developed a gut instinct for through hundreds of thousands of hours of play time."
   ]
  },
  {
   "cell_type": "markdown",
   "metadata": {},
   "source": [
    "Our data satisfies the following requirements: \u000f The game mode is either all pick, single draft, all random, random draft, captain’s draft, captain’s mode, or least played. These game modes are the closest to the true vision of Dota 2. \u000f We pulled 8000 records from the API out of which 5923 records were unique which were then used to create a database in MongoDB. The data for each match is structured as JSON and includes which heroes were chosen for each team, how those heroes performed over the course of the game, and which team ultimately won the game. We exported 90% of the matches from our database to form a training set. The remaining 10% of our database was used to form a test set."
   ]
  },
  {
   "cell_type": "markdown",
   "metadata": {},
   "source": [
    "#### Getting the Data from Steam Client"
   ]
  },
  {
   "cell_type": "markdown",
   "metadata": {},
   "source": [
    "Importing data using Dota2API provided by Steam in JSON format, and then creating a MongoDB database using the results. Since, there is a limit to the number of match details that can be pulled from the game client, we have used a try-catch block to avoid disruption of our code due to the API limit. Each request pulls data for 100 matches. We have implemented a while loop to pull data for 8000 matches in all."
   ]
  },
  {
   "cell_type": "markdown",
   "metadata": {},
   "source": [
    "Dota2API is an open source library of functions provided by Steam (Valve Corporation). To install this api, use: pip install dota2api. The web link for the same is found at: https://dota2api.readthedocs.io/en/latest/index.html"
   ]
  },
  {
   "cell_type": "code",
   "execution_count": 1,
   "metadata": {
    "collapsed": false
   },
   "outputs": [
    {
     "name": "stdout",
     "output_type": "stream",
     "text": [
      "Data downloaded\n"
     ]
    }
   ],
   "source": [
    "import pandas as pd\n",
    "import dota2api\n",
    "\n",
    "#Initialise the API using a Steam account token key\n",
    "api = dota2api.Initialise(\"C4478A705AA9040E7660A53B0DD61092\")\n",
    "count = 0\n",
    "docs = []\n",
    "i = 2639900000 #Choose a random match sequence number to begin pulling the data\n",
    "while count<=8000:  \n",
    "    try:\n",
    "      matchData = api.get_match_history_by_seq_num(start_at_match_seq_num=i)\n",
    "      docs = docs + matchData[\"matches\"]\n",
    "      count += len(matchData[\"matches\"])      \n",
    "    except :\n",
    "        pass\n",
    "        #print(\"Api limit exception error occured,retrying next set of data\")\n",
    "    finally:\n",
    "        i += 100\n",
    "print(\"Data downloaded\")"
   ]
  },
  {
   "cell_type": "markdown",
   "metadata": {},
   "source": [
    "We then proceed to add the pulled data into a MongoDB database. To avoid duplicate entries, we again employ a try-catch block."
   ]
  },
  {
   "cell_type": "code",
   "execution_count": 3,
   "metadata": {
    "collapsed": false
   },
   "outputs": [
    {
     "name": "stdout",
     "output_type": "stream",
     "text": [
      "Records inserted,duplicate matches details ignored\n",
      "Total Records inserted 5982\n"
     ]
    }
   ],
   "source": [
    "import pymongo\n",
    "from pymongo import MongoClient\n",
    "con=MongoClient()\n",
    "DotaDB=con.Dota\n",
    "matches=DotaDB.NewMatches\n",
    "coll = []\n",
    "for j in docs:           \n",
    "        j['_id'] = j[\"match_id\"]\n",
    "        coll.append(j)\n",
    "try:\n",
    "   matches.insert_many(coll, ordered=False)\n",
    "except:\n",
    "    print(\"Records inserted,duplicate matches details ignored\")\n",
    "finally:\n",
    "    print(\"Total Records inserted\", matches.find().count())"
   ]
  },
  {
   "cell_type": "markdown",
   "metadata": {},
   "source": [
    "#### Hero wise Data Analysis"
   ]
  },
  {
   "cell_type": "code",
   "execution_count": 8,
   "metadata": {
    "collapsed": false
   },
   "outputs": [
    {
     "name": "stdout",
     "output_type": "stream",
     "text": [
      "The most picked hero is  14\n",
      "The hero with best impact ratio 67\n"
     ]
    },
    {
     "data": {
      "image/png": "[encoded data removed]",
      "text/plain": [
       "<matplotlib.figure.Figure at 0x210a315deb8>"
      ]
     },
     "metadata": {},
     "output_type": "display_data"
    }
   ],
   "source": [
    "#Hero wise Data Analysis\n",
    "\n",
    "import matplotlib.pyplot as plt\n",
    "from operator import itemgetter \n",
    "herocount = [0] * 115\n",
    "kills = [0] * 115\n",
    "deaths = [0] * 115\n",
    "assists = [0] * 115\n",
    "for i in matches.find():\n",
    "    for j in i[\"players\"]:    \n",
    "        herocount[j[\"hero_id\"]]+=1\n",
    "        kills[j[\"hero_id\"]]+=j[\"kills\"]\n",
    "        deaths[j[\"hero_id\"]]+=j[\"deaths\"]\n",
    "        assists[j[\"hero_id\"]]+=j[\"assists\"]\n",
    "maxpick = max(herocount)\n",
    "mostPickedHeroID = herocount.index(maxpick)\n",
    "\n",
    "kda = {}\n",
    "for i in range(len(kills)):\n",
    "    num = kills[i]+assists[i]\n",
    "    den = deaths[i]\n",
    "    if den !=0:\n",
    "        kda.update({i:num/den})\n",
    "    else:\n",
    "         kda.update({i:num})\n",
    "\n",
    "sorted_kda=sorted(kda.items(),key=itemgetter(1),reverse=True)\n",
    "values={}\n",
    "for i in range(10):\n",
    "   values.update({sorted_kda[i][0]:sorted_kda[i][1]})\n",
    "\n",
    "highestImpact=sorted_kda[0][1]\n",
    "HighestImpactHeroID=sorted_kda[0][0]\n",
    "print(\"The most picked hero is \",mostPickedHeroID)\n",
    "print(\"The hero with best impact ratio\",HighestImpactHeroID)\n",
    "\n",
    "#Top 10 heros with the highest impact:\n",
    "fig, ax = plt.subplots()\n",
    "plt.bar(range(len(values)),values.values() , width=0.2,color='g', align='center') \n",
    "plt.xticks(range(len(values)),values.keys())\n",
    "\n",
    "ax.set_ylabel('KDA')\n",
    "ax.set_xlabel('Hero Id')\n",
    "plt.title('Top Ten Impact Ratio')\n",
    "plt.show()\n",
    "#################################"
   ]
  },
  {
   "cell_type": "markdown",
   "metadata": {
    "collapsed": true
   },
   "source": [
    "#### Applying Logistic Regression\n"
   ]
  },
  {
   "cell_type": "code",
   "execution_count": 9,
   "metadata": {
    "collapsed": false
   },
   "outputs": [
    {
     "name": "stderr",
     "output_type": "stream",
     "text": [
      "C:\\Program Files\\Anaconda3\\lib\\site-packages\\ipykernel\\__main__.py:37: VisibleDeprecationWarning: using a non-integer number instead of an integer will result in an error in the future\n",
      "C:\\Program Files\\Anaconda3\\lib\\site-packages\\ipykernel\\__main__.py:38: VisibleDeprecationWarning: using a non-integer number instead of an integer will result in an error in the future\n"
     ]
    }
   ],
   "source": [
    "import pymongo\n",
    "from bson.code import Code\n",
    "import numpy as np\n",
    "from sklearn.linear_model import LogisticRegression\n",
    "import matplotlib.pyplot as plt\n",
    "import pylab\n",
    "\n",
    "connection = pymongo.MongoClient(\"mongodb://localhost\")\n",
    "\n",
    "DotaDB = connection.Dota\n",
    "matches = DotaDB.NewMatches\n",
    "np.set_printoptions(threshold = np.nan)\n",
    "NUM_HEROES = 114\n",
    "NUM_FEATURES = NUM_HEROES * 2\n",
    "NUM_MATCHES = matches.count()\n",
    "\n",
    "# Initialize training matrix\n",
    "X = np.zeros((NUM_MATCHES, NUM_FEATURES), dtype = np.int8)\n",
    "\n",
    "# Initialize training label vector\n",
    "Y = np.zeros(NUM_MATCHES, dtype = np.int8)\n",
    "\n",
    "\n",
    "for i, record in enumerate(matches.find()):    \n",
    "    Y[i] = 1 if record['radiant_win'] else 0\n",
    "    players = record['players']\n",
    "    for player in players:\n",
    "        hero_id = player['hero_id'] - 1               \n",
    "        player_slot = player['player_slot']\n",
    "        if player_slot >= 128:\n",
    "            hero_id += NUM_HEROES\n",
    "        X[i, hero_id] = 1\n",
    "        \n",
    "\n",
    "\n",
    "indices = np.random.permutation(NUM_MATCHES)\n",
    "test_indices = indices[0:NUM_MATCHES/10]\n",
    "train_indices = indices[NUM_MATCHES/10:NUM_MATCHES]\n",
    "\n",
    "\n",
    "X_test = X[test_indices]\n",
    "Y_test = Y[test_indices]\n",
    "X_train = X[train_indices]\n",
    "Y_train = Y[train_indices]"
   ]
  },
  {
   "cell_type": "code",
   "execution_count": 10,
   "metadata": {
    "collapsed": true
   },
   "outputs": [],
   "source": [
    "num_samples = len(X_train)\n",
    "model = LogisticRegression().fit(X_train[0:num_samples], Y_train[0:num_samples])"
   ]
  },
  {
   "cell_type": "code",
   "execution_count": 11,
   "metadata": {
    "collapsed": true
   },
   "outputs": [],
   "source": [
    "def generateMatrix(my_team, their_team):\n",
    "        X = np.zeros(NUM_FEATURES, dtype=np.int8)\n",
    "        for hero_id in my_team:\n",
    "            X[hero_id] = 1\n",
    "        for hero_id in their_team:\n",
    "            X[hero_id] = 1\n",
    "        return X\n",
    "\n",
    "    \n",
    "def predict(query,model):\n",
    "        radiant_query = query\n",
    "        dire_query = np.concatenate((radiant_query[NUM_HEROES:NUM_FEATURES], radiant_query[0:NUM_HEROES]))\n",
    "        rad_prob = model.predict_proba(radiant_query)[0][1]\n",
    "        dire_prob = model.predict_proba(dire_query)[0][0]\n",
    "        return (rad_prob + dire_prob) / 2\n",
    "\n"
   ]
  },
  {
   "cell_type": "code",
   "execution_count": null,
   "metadata": {
    "collapsed": true
   },
   "outputs": [],
   "source": [
    "#Applying model on test dataset \n",
    "prediction = []\n",
    "for i in range(len(X_test)):\n",
    "    list1 = predict(X_test[i],model)   \n",
    "    prediction.append((list1,Y_test[i])) "
   ]
  },
  {
   "cell_type": "code",
   "execution_count": 29,
   "metadata": {
    "collapsed": true
   },
   "outputs": [],
   "source": [
    "def getHeroList(data):\n",
    "    radiant_list = []\n",
    "    dire_list = []\n",
    "    for i in range(NUM_FEATURES):\n",
    "        if data[i] == 1 and i < NUM_HEROES:\n",
    "            radiant_list.append(i)\n",
    "        elif data[i] == 1 and i >= NUM_HEROES:\n",
    "            dire_list.append(i)          \n",
    "    return radiant_list,dire_list            \n",
    "\n",
    "def get_recommendation(data):\n",
    "    rad_team,dire_team = getHeroList(data)\n",
    "    hero_candidates = np.arange(0,113)\n",
    "    hero_candidates.reshape(1,-1)\n",
    "    probs = recommend(rad_team,dire_team,hero_candidates)\n",
    "    return probs\n",
    "    \n",
    "def recommend(my_team, their_team, hero_candidates):\n",
    "        my_team.pop()\n",
    "        team_possibilities = [(candidate, my_team + [candidate]) for candidate in hero_candidates]\n",
    "        prob_candidate_pairs = []\n",
    "        for candidate, team in team_possibilities:\n",
    "            query = generateMatrix(team, their_team)\n",
    "            prob = predict(query,model) \n",
    "            prob_candidate_pairs.append((prob, candidate))        \n",
    "        return prob_candidate_pairs\n",
    "    \n"
   ]
  },
  {
   "cell_type": "code",
   "execution_count": null,
   "metadata": {
    "collapsed": true
   },
   "outputs": [],
   "source": [
    "#building recommendation matrix \n",
    "recommendations = []    \n",
    "for i in range(len(X_test)):\n",
    "    pr = get_recommendation(X_test[i])\n",
    "    recommendations.append(pr)\n",
    "\n"
   ]
  },
  {
   "cell_type": "markdown",
   "metadata": {},
   "source": [
    "#### Generating a graph to depict the test data accuracy"
   ]
  },
  {
   "cell_type": "code",
   "execution_count": 19,
   "metadata": {
    "collapsed": false
   },
   "outputs": [
    {
     "name": "stdout",
     "output_type": "stream",
     "text": [
      "0.6053511705685619\n"
     ]
    }
   ],
   "source": [
    "def evaluate(model, X, Y, positive_class, negative_class):    \n",
    "    correct_predictions = 0.0\n",
    "    for i, radiant_query in enumerate(X):\n",
    "        overall_prob = predict(radiant_query,model)\n",
    "        prediction = positive_class if (overall_prob > 0.5) else negative_class\n",
    "        result = 1 if prediction == Y[i] else 0\n",
    "        correct_predictions += result\n",
    "\n",
    "    return correct_predictions/len(X)\n",
    "\n",
    "    \n",
    "test_error = evaluate(model, X_test, Y_test, 1, 0)\n",
    "print(test_error)\n",
    "def plot_learning_curve(num_points, X_train, Y_train, X_test, Y_test, positive_class=1, negative_class=0):\n",
    "    total_num_matches = len(X_train)\n",
    "    training_set_sizes = []\n",
    "    for div in list(reversed(range(1, num_points + 1))):\n",
    "        training_set_sizes.append(total_num_matches / div)\n",
    "        \n",
    "    \n",
    "    tr_size = []\n",
    "    test_errors = []\n",
    "    for training_set_size in training_set_sizes:\n",
    "        if(training_set_size > 2):      \n",
    "            model = LogisticRegression().fit(X_train[0:training_set_size],Y_train[0:training_set_size])           \n",
    "            test_error = evaluate(model, X_test, Y_test, positive_class, negative_class)\n",
    "            test_errors.append(test_error)            \n",
    "            tr_size.append(training_set_size)    \n",
    "    plt.plot(tr_size, test_errors, 'g^-', label='Test accuracy')\n",
    "    plt.ylabel('Accuracy')\n",
    "    plt.xlabel('Number of training samples')\n",
    "    plt.title('Logistic Regression Learning Curve')\n",
    "    pylab.show()\n",
    "    \n",
    "\n",
    "#plot_learning_curve(100,X_train,Y_train,X_test,Y_test)"
   ]
  },
  {
   "cell_type": "markdown",
   "metadata": {},
   "source": [
    "#### Recommendation graph"
   ]
  },
  {
   "cell_type": "code",
   "execution_count": 30,
   "metadata": {
    "collapsed": false
   },
   "outputs": [
    {
     "name": "stdout",
     "output_type": "stream",
     "text": [
      "[(0.69666880570590628, 107), (0.69394744925317653, 70), (0.68687282921247483, 95), (0.68309023290215543, 47), (0.67943596155940789, 76), (0.67843543938173778, 77), (0.67724446534787153, 66), (0.67606272665996503, 82), (0.67523410688553331, 101), (0.66739262394859589, 59), (0.66709465387387179, 69), (0.6663872227962504, 4), (0.66424619248401762, 31), (0.66253989437853411, 74), (0.66046056910622841, 32), (0.66003700761777151, 30), (0.65613098779956158, 35), (0.65424726918995968, 84), (0.65119537373536351, 80), (0.65087722760798383, 49), (0.64960733643997792, 43), (0.64954386109855389, 13), (0.6492135780173115, 104), (0.64918518464861297, 111), (0.6426514408859505, 26), (0.6390154359992124, 98), (0.63767651320177232, 7), (0.63558166315854159, 56), (0.63192723951604379, 21), (0.62975356701057539, 103), (0.62963622029582766, 62), (0.62942714085014928, 94), (0.62934191475276446, 75), (0.62931159442050522, 28), (0.62912456616699641, 83), (0.62821690498266103, 102), (0.62646112005150556, 89), (0.62493661561120029, 63), (0.62333675679696299, 105), (0.62146740364156083, 36), (0.6202354182122527, 93), (0.61978737779069204, 68), (0.61906236519128954, 3), (0.61849374999618378, 8), (0.61786688037439597, 0), (0.61674290265813703, 5), (0.61623670598930091, 29), (0.61579225990441033, 45), (0.61473252525182054, 40), (0.61468059189837509, 34), (0.61457040097996207, 97), (0.61390018308031191, 37), (0.61271757512341307, 65), (0.61262679265068587, 25), (0.6125747770866401, 10), (0.61113977032373801, 92), (0.60901446900836942, 87), (0.60749798283751721, 11), (0.60656807550676906, 15), (0.60582931731103717, 86), (0.60582931731103717, 73), (0.60582931731103717, 41), (0.60582931731103717, 23), (0.60582931731103717, 1), (0.6055482364333673, 53), (0.60491774169526347, 108), (0.60310892283573503, 17), (0.60294280831294356, 58), (0.602595674227838, 67), (0.60010652078044124, 72), (0.5983822883567359, 27), (0.59582238754782746, 16), (0.59364236184518415, 109), (0.59352696147585515, 39), (0.58940010008279176, 85), (0.58585084919730113, 33), (0.58401503099453267, 19), (0.58295846244887017, 6), (0.57870493039936999, 2), (0.57564907439531843, 54), (0.57522101101848322, 100), (0.57441117513887119, 96), (0.57333814741499733, 46), (0.57242627198454921, 20), (0.57150576834424549, 61), (0.57144133870576086, 18), (0.57144064799661809, 48), (0.57117194075773448, 79), (0.56994246878140742, 12), (0.56843895779927933, 22), (0.56569974925087241, 71), (0.56441775258707105, 78), (0.56177407396568657, 57), (0.56082854735747212, 9), (0.56000972586013864, 42), (0.55299454651598046, 88), (0.55112758387953353, 50), (0.54976003425678877, 52), (0.5467645959485905, 106), (0.54531434268772649, 64), (0.54301959109224152, 44), (0.53550679006150004, 55), (0.53316205307297271, 51), (0.53268461166250725, 38), (0.53114944782102946, 24), (0.52994574095610836, 60), (0.52696903438734832, 112), (0.52289305011055154, 91), (0.52089857503749704, 110), (0.51416956125389612, 14), (0.50917770183843547, 99), (0.49656857935020604, 81), (0.46232936975546918, 90)]\n"
     ]
    },
    {
     "data": {
      "image/png": "[encoded data removed]",
      "text/plain": [
       "<matplotlib.figure.Figure at 0x210a30024a8>"
      ]
     },
     "metadata": {},
     "output_type": "display_data"
    }
   ],
   "source": [
    "X_test[25].reshape(1,-1)\n",
    "recommend_list = get_recommendation(X_test[25])\n",
    "recommend_list.sort(reverse=True)\n",
    "topFifteen = recommend_list[:15]\n",
    "values = dict(topFifteen)\n",
    "import matplotlib.pyplot as plt\n",
    "#import warnings\n",
    "#warnings.filterwarnings('ignore')\n",
    "\n",
    "fig, ax = plt.subplots()\n",
    "plt.bar(range(len(values)), values.keys(), width = 0.2, color = 'r', align = 'center') \n",
    "plt.xticks(range(len(values)),values.values())\n",
    "\n",
    "ax.set_ylabel('Probability')\n",
    "ax.set_xlabel('Hero Id')\n",
    "#plt.legend()\n",
    "plt.title('Recommedation Probability')\n",
    "plt.show()"
   ]
  },
  {
   "cell_type": "code",
   "execution_count": null,
   "metadata": {
    "collapsed": true
   },
   "outputs": [],
   "source": []
  }
 ],
 "metadata": {
  "anaconda-cloud": {},
  "kernelspec": {
   "display_name": "Python [default]",
   "language": "python",
   "name": "python3"
  },
  "language_info": {
   "codemirror_mode": {
    "name": "ipython",
    "version": 3
   },
   "file_extension": ".py",
   "mimetype": "text/x-python",
   "name": "python",
   "nbconvert_exporter": "python",
   "pygments_lexer": "ipython3",
   "version": "3.5.2"
  }
 },
 "nbformat": 4,
 "nbformat_minor": 2
}
