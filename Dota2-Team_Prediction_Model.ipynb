{
 "cells": [
  {
   "cell_type": "markdown",
   "metadata": {},
   "source": [
    "## DOTA2 Team Prediction Model using machine learning techniques"
   ]
  },
  {
   "cell_type": "markdown",
   "metadata": {
    "collapsed": true
   },
   "source": [
    "Dota2 by Valve is a popular computer game with a player base of 6 million unique users. \n",
    "Each Dota 2 match consists of two teams of five players pitted against each other. Before a match begins, each player selects a character to play as, known as a “hero,” from a pool of 113 different heroes. Once a player chooses a hero, no other player can select that hero for the same match. Heroes have a wide-range of characteristics and abilities that, combined with the massive hero pool, make each match unique."
   ]
  },
  {
   "cell_type": "markdown",
   "metadata": {},
   "source": [
    "An interesting aspect of the game is that in choosing a hero, players must keep in mind not only the individual strengths and weaknesses of each hero, but also how the strengths and weaknesses of that hero interacts with the heroes already chosen by other players. An effective hero pick is one that synergizes with the heroes chosen by teammates, and both exploits the weaknesses and minimizes the strengths of the heroes chosen by the opposing team. Assuming equally skilled teams, the ramifications of hero selection can be so staggering that well devised hero choices can implicitly give a team a large advantage before the match even begins. The goal of our project is to recommend heroes that will perform well against an opposing team of heroes."
   ]
  },
  {
   "cell_type": "markdown",
   "metadata": {},
   "source": [
    "With 106 heroes to choose from and five heroes per team, we are attempting to find the best five heroes for any given matchup, which results in over eight quadrillion possible team combinations. On a deeper level, recommending heroes using machine learning is challenging because it tries to capture via raw data what professional players have developed a gut instinct for through hundreds of thousands of hours of play time."
   ]
  },
  {
   "cell_type": "markdown",
   "metadata": {},
   "source": [
    "Our data satisfies the following requirements:\n",
    "\u000f The game mode is either all pick, single draft, all random, random draft, captain’s draft, captain’s mode, or least played. These game modes are the closest to the true vision of Dota 2.\n",
    "\u000f We pulled 8000 records from the API out of which 5923 records were unique which were then used to create a database in MongoDB.\n",
    "The data for each match is structured as JSON and includes which heroes were chosen for each team, how those heroes performed over the course of the game, and which team ultimately won the game.\n",
    "We exported 90% of the matches from our database to form a training set. The remaining 10% of our database was used to form a test set."
   ]
  },
  {
<<<<<<< HEAD
   "cell_type": "markdown",
   "metadata": {},
   "source": [
    "#### Getting the Data from Steam Client"
   ]
  },
  {
   "cell_type": "markdown",
   "metadata": {},
   "source": [
    "Importing data using Dota2API provided by Steam in JSON format, and then creating a MongoDB database using the results. Since, there is a limit to the number of match details that can be pulled from the game client, we have used a try-catch block to avoid disruption of our code due to the API limit. Each request pulls data for 100 matches. We have implmented a while loop to pull data for 8000 matches in all."
   ]
  },
  {
   "cell_type": "code",
   "execution_count": null,
   "metadata": {
    "collapsed": true
   },
   "outputs": [],
   "source": [
    "import pandas as pd\n",
    "import dota2api\n",
    "\n",
    "#Initialise the API using a steam account token key\n",
    "api = dota2api.Initialise(\"C4478A705AA9040E7660A53B0DD61092\")\n",
    "count=0\n",
    "docs = []\n",
    "i = 2639900000 #Choose a random match sequence number to begin pulling the data\n",
    "while count<=8000:  \n",
    "    try:\n",
    "      matchData = api.get_match_history_by_seq_num(start_at_match_seq_num=i)\n",
    "      docs = docs + matchData[\"matches\"]\n",
    "      count += len(matchData[\"matches\"])      \n",
    "    except :\n",
    "        print(\"API limit exception error occured,retrying next set of data\")\n",
    "    finally:\n",
    "        i +=100        "
   ]
  },
  {
   "cell_type": "markdown",
   "metadata": {},
   "source": [
    "We then proceed to add the pulled data into a MongoDB database. To avoid duplicate entries, we again employ a try-catch block."
   ]
  },
  {
=======
>>>>>>> origin/master
   "cell_type": "code",
   "execution_count": null,
   "metadata": {
    "collapsed": true
   },
   "outputs": [],
<<<<<<< HEAD
   "source": [
    "import pymongo\n",
    "from pymongo import MongoClient\n",
    "con=MongoClient()\n",
    "DotaDB=con.Dota\n",
    "matches=DotaDB.NewMatch1\n",
    "coll = []\n",
    "for j in docs:           \n",
    "        j['_id']=j[\"match_id\"]\n",
    "        coll.append(j)\n",
    "try:\n",
    "   matches.insert_many(coll,ordered=False)\n",
    "except:\n",
    "    print(\"Records inserted,duplicate matches details ignored\")\n",
    "finally:\n",
    "    print(\"Total Records inserted\",matches.find().count())"
   ]
=======
   "source": []
>>>>>>> origin/master
  }
 ],
 "metadata": {
  "anaconda-cloud": {},
  "kernelspec": {
   "display_name": "Python [conda root]",
   "language": "python",
   "name": "conda-root-py"
  },
  "language_info": {
   "codemirror_mode": {
    "name": "ipython",
    "version": 3
   },
   "file_extension": ".py",
   "mimetype": "text/x-python",
   "name": "python",
   "nbconvert_exporter": "python",
   "pygments_lexer": "ipython3",
   "version": "3.5.2"
  }
 },
 "nbformat": 4,
 "nbformat_minor": 2
}
